{
 "cells": [
  {
   "cell_type": "markdown",
   "metadata": {},
   "source": [
    "*WINE QUALITY PREDICTION (RED-WINE)*\n",
    "\n",
    "Using Inbuilt Linear Regression Model"
   ]
  },
  {
   "cell_type": "code",
   "execution_count": 1,
   "metadata": {},
   "outputs": [],
   "source": [
    "# Importin necessary Libraries\n",
    "import pandas as pd\n",
    "import numpy as np\n",
    "import matplotlib.pyplot as plt\n",
    "import seaborn as sns\n",
    "from sklearn.model_selection import train_test_split\n",
    "from sklearn.linear_model import LinearRegression\n",
    "from sklearn import metrics\n",
    "from sklearn.metrics import accuracy_score\n",
    "%matplotlib inline"
   ]
  },
  {
   "cell_type": "code",
   "execution_count": 2,
   "metadata": {},
   "outputs": [
    {
     "name": "stdout",
     "output_type": "stream",
     "text": [
      "(1599, 12)\n"
     ]
    },
    {
     "data": {
      "text/plain": [
       "fixed.acidity           0\n",
       "volatile.acidity        0\n",
       "citric.acid             0\n",
       "residual.sugar          0\n",
       "chlorides               0\n",
       "free.sulfur.dioxide     0\n",
       "total.sulfur.dioxide    0\n",
       "density                 0\n",
       "pH                      0\n",
       "sulphates               0\n",
       "alcohol                 0\n",
       "quality                 0\n",
       "dtype: int64"
      ]
     },
     "execution_count": 2,
     "metadata": {},
     "output_type": "execute_result"
    }
   ],
   "source": [
    "# creating dataframe and checking the existance of null values\n",
    "df1 = pd.read_csv('C:\\\\Users\\\\mahes\\\\OneDrive\\\\Desktop\\\\Mahesh_Works\\\\Wine-Quality-Prediction\\\\wineQualityReds.csv',encoding = 'utf-8')\n",
    "print(df1.shape)\n",
    "df1.isnull().sum()"
   ]
  },
  {
   "cell_type": "code",
   "execution_count": 3,
   "metadata": {},
   "outputs": [
    {
     "data": {
      "text/html": [
       "<div>\n",
       "<style scoped>\n",
       "    .dataframe tbody tr th:only-of-type {\n",
       "        vertical-align: middle;\n",
       "    }\n",
       "\n",
       "    .dataframe tbody tr th {\n",
       "        vertical-align: top;\n",
       "    }\n",
       "\n",
       "    .dataframe thead th {\n",
       "        text-align: right;\n",
       "    }\n",
       "</style>\n",
       "<table border=\"1\" class=\"dataframe\">\n",
       "  <thead>\n",
       "    <tr style=\"text-align: right;\">\n",
       "      <th></th>\n",
       "      <th>fixed.acidity</th>\n",
       "      <th>volatile.acidity</th>\n",
       "      <th>citric.acid</th>\n",
       "      <th>residual.sugar</th>\n",
       "      <th>chlorides</th>\n",
       "      <th>free.sulfur.dioxide</th>\n",
       "      <th>total.sulfur.dioxide</th>\n",
       "      <th>density</th>\n",
       "      <th>pH</th>\n",
       "      <th>sulphates</th>\n",
       "      <th>alcohol</th>\n",
       "      <th>quality</th>\n",
       "    </tr>\n",
       "  </thead>\n",
       "  <tbody>\n",
       "    <tr>\n",
       "      <th>0</th>\n",
       "      <td>7.4</td>\n",
       "      <td>0.70</td>\n",
       "      <td>0.00</td>\n",
       "      <td>1.9</td>\n",
       "      <td>0.076</td>\n",
       "      <td>11.0</td>\n",
       "      <td>34.0</td>\n",
       "      <td>0.9978</td>\n",
       "      <td>3.51</td>\n",
       "      <td>0.56</td>\n",
       "      <td>9.4</td>\n",
       "      <td>5</td>\n",
       "    </tr>\n",
       "    <tr>\n",
       "      <th>1</th>\n",
       "      <td>7.8</td>\n",
       "      <td>0.88</td>\n",
       "      <td>0.00</td>\n",
       "      <td>2.6</td>\n",
       "      <td>0.098</td>\n",
       "      <td>25.0</td>\n",
       "      <td>67.0</td>\n",
       "      <td>0.9968</td>\n",
       "      <td>3.20</td>\n",
       "      <td>0.68</td>\n",
       "      <td>9.8</td>\n",
       "      <td>5</td>\n",
       "    </tr>\n",
       "    <tr>\n",
       "      <th>2</th>\n",
       "      <td>7.8</td>\n",
       "      <td>0.76</td>\n",
       "      <td>0.04</td>\n",
       "      <td>2.3</td>\n",
       "      <td>0.092</td>\n",
       "      <td>15.0</td>\n",
       "      <td>54.0</td>\n",
       "      <td>0.9970</td>\n",
       "      <td>3.26</td>\n",
       "      <td>0.65</td>\n",
       "      <td>9.8</td>\n",
       "      <td>5</td>\n",
       "    </tr>\n",
       "    <tr>\n",
       "      <th>3</th>\n",
       "      <td>11.2</td>\n",
       "      <td>0.28</td>\n",
       "      <td>0.56</td>\n",
       "      <td>1.9</td>\n",
       "      <td>0.075</td>\n",
       "      <td>17.0</td>\n",
       "      <td>60.0</td>\n",
       "      <td>0.9980</td>\n",
       "      <td>3.16</td>\n",
       "      <td>0.58</td>\n",
       "      <td>9.8</td>\n",
       "      <td>6</td>\n",
       "    </tr>\n",
       "    <tr>\n",
       "      <th>4</th>\n",
       "      <td>7.4</td>\n",
       "      <td>0.70</td>\n",
       "      <td>0.00</td>\n",
       "      <td>1.9</td>\n",
       "      <td>0.076</td>\n",
       "      <td>11.0</td>\n",
       "      <td>34.0</td>\n",
       "      <td>0.9978</td>\n",
       "      <td>3.51</td>\n",
       "      <td>0.56</td>\n",
       "      <td>9.4</td>\n",
       "      <td>5</td>\n",
       "    </tr>\n",
       "  </tbody>\n",
       "</table>\n",
       "</div>"
      ],
      "text/plain": [
       "   fixed.acidity  volatile.acidity  citric.acid  residual.sugar  chlorides  \\\n",
       "0            7.4              0.70         0.00             1.9      0.076   \n",
       "1            7.8              0.88         0.00             2.6      0.098   \n",
       "2            7.8              0.76         0.04             2.3      0.092   \n",
       "3           11.2              0.28         0.56             1.9      0.075   \n",
       "4            7.4              0.70         0.00             1.9      0.076   \n",
       "\n",
       "   free.sulfur.dioxide  total.sulfur.dioxide  density    pH  sulphates  \\\n",
       "0                 11.0                  34.0   0.9978  3.51       0.56   \n",
       "1                 25.0                  67.0   0.9968  3.20       0.68   \n",
       "2                 15.0                  54.0   0.9970  3.26       0.65   \n",
       "3                 17.0                  60.0   0.9980  3.16       0.58   \n",
       "4                 11.0                  34.0   0.9978  3.51       0.56   \n",
       "\n",
       "   alcohol  quality  \n",
       "0      9.4        5  \n",
       "1      9.8        5  \n",
       "2      9.8        5  \n",
       "3      9.8        6  \n",
       "4      9.4        5  "
      ]
     },
     "execution_count": 3,
     "metadata": {},
     "output_type": "execute_result"
    }
   ],
   "source": [
    "df1.head(5)"
   ]
  },
  {
   "cell_type": "code",
   "execution_count": 4,
   "metadata": {},
   "outputs": [
    {
     "data": {
      "text/html": [
       "<div>\n",
       "<style scoped>\n",
       "    .dataframe tbody tr th:only-of-type {\n",
       "        vertical-align: middle;\n",
       "    }\n",
       "\n",
       "    .dataframe tbody tr th {\n",
       "        vertical-align: top;\n",
       "    }\n",
       "\n",
       "    .dataframe thead th {\n",
       "        text-align: right;\n",
       "    }\n",
       "</style>\n",
       "<table border=\"1\" class=\"dataframe\">\n",
       "  <thead>\n",
       "    <tr style=\"text-align: right;\">\n",
       "      <th></th>\n",
       "      <th>fixed.acidity</th>\n",
       "      <th>volatile.acidity</th>\n",
       "      <th>citric.acid</th>\n",
       "      <th>residual.sugar</th>\n",
       "      <th>chlorides</th>\n",
       "      <th>free.sulfur.dioxide</th>\n",
       "      <th>total.sulfur.dioxide</th>\n",
       "      <th>density</th>\n",
       "      <th>pH</th>\n",
       "      <th>sulphates</th>\n",
       "      <th>alcohol</th>\n",
       "      <th>quality</th>\n",
       "    </tr>\n",
       "  </thead>\n",
       "  <tbody>\n",
       "    <tr>\n",
       "      <th>count</th>\n",
       "      <td>1599.000000</td>\n",
       "      <td>1599.000000</td>\n",
       "      <td>1599.000000</td>\n",
       "      <td>1599.000000</td>\n",
       "      <td>1599.000000</td>\n",
       "      <td>1599.000000</td>\n",
       "      <td>1599.000000</td>\n",
       "      <td>1599.000000</td>\n",
       "      <td>1599.000000</td>\n",
       "      <td>1599.000000</td>\n",
       "      <td>1599.000000</td>\n",
       "      <td>1599.000000</td>\n",
       "    </tr>\n",
       "    <tr>\n",
       "      <th>mean</th>\n",
       "      <td>8.319637</td>\n",
       "      <td>0.527821</td>\n",
       "      <td>0.270976</td>\n",
       "      <td>2.538806</td>\n",
       "      <td>0.087467</td>\n",
       "      <td>15.874922</td>\n",
       "      <td>46.467792</td>\n",
       "      <td>0.996747</td>\n",
       "      <td>3.311113</td>\n",
       "      <td>0.658149</td>\n",
       "      <td>10.422983</td>\n",
       "      <td>5.636023</td>\n",
       "    </tr>\n",
       "    <tr>\n",
       "      <th>std</th>\n",
       "      <td>1.741096</td>\n",
       "      <td>0.179060</td>\n",
       "      <td>0.194801</td>\n",
       "      <td>1.409928</td>\n",
       "      <td>0.047065</td>\n",
       "      <td>10.460157</td>\n",
       "      <td>32.895324</td>\n",
       "      <td>0.001887</td>\n",
       "      <td>0.154386</td>\n",
       "      <td>0.169507</td>\n",
       "      <td>1.065668</td>\n",
       "      <td>0.807569</td>\n",
       "    </tr>\n",
       "    <tr>\n",
       "      <th>min</th>\n",
       "      <td>4.600000</td>\n",
       "      <td>0.120000</td>\n",
       "      <td>0.000000</td>\n",
       "      <td>0.900000</td>\n",
       "      <td>0.012000</td>\n",
       "      <td>1.000000</td>\n",
       "      <td>6.000000</td>\n",
       "      <td>0.990070</td>\n",
       "      <td>2.740000</td>\n",
       "      <td>0.330000</td>\n",
       "      <td>8.400000</td>\n",
       "      <td>3.000000</td>\n",
       "    </tr>\n",
       "    <tr>\n",
       "      <th>25%</th>\n",
       "      <td>7.100000</td>\n",
       "      <td>0.390000</td>\n",
       "      <td>0.090000</td>\n",
       "      <td>1.900000</td>\n",
       "      <td>0.070000</td>\n",
       "      <td>7.000000</td>\n",
       "      <td>22.000000</td>\n",
       "      <td>0.995600</td>\n",
       "      <td>3.210000</td>\n",
       "      <td>0.550000</td>\n",
       "      <td>9.500000</td>\n",
       "      <td>5.000000</td>\n",
       "    </tr>\n",
       "    <tr>\n",
       "      <th>50%</th>\n",
       "      <td>7.900000</td>\n",
       "      <td>0.520000</td>\n",
       "      <td>0.260000</td>\n",
       "      <td>2.200000</td>\n",
       "      <td>0.079000</td>\n",
       "      <td>14.000000</td>\n",
       "      <td>38.000000</td>\n",
       "      <td>0.996750</td>\n",
       "      <td>3.310000</td>\n",
       "      <td>0.620000</td>\n",
       "      <td>10.200000</td>\n",
       "      <td>6.000000</td>\n",
       "    </tr>\n",
       "    <tr>\n",
       "      <th>75%</th>\n",
       "      <td>9.200000</td>\n",
       "      <td>0.640000</td>\n",
       "      <td>0.420000</td>\n",
       "      <td>2.600000</td>\n",
       "      <td>0.090000</td>\n",
       "      <td>21.000000</td>\n",
       "      <td>62.000000</td>\n",
       "      <td>0.997835</td>\n",
       "      <td>3.400000</td>\n",
       "      <td>0.730000</td>\n",
       "      <td>11.100000</td>\n",
       "      <td>6.000000</td>\n",
       "    </tr>\n",
       "    <tr>\n",
       "      <th>max</th>\n",
       "      <td>15.900000</td>\n",
       "      <td>1.580000</td>\n",
       "      <td>1.000000</td>\n",
       "      <td>15.500000</td>\n",
       "      <td>0.611000</td>\n",
       "      <td>72.000000</td>\n",
       "      <td>289.000000</td>\n",
       "      <td>1.003690</td>\n",
       "      <td>4.010000</td>\n",
       "      <td>2.000000</td>\n",
       "      <td>14.900000</td>\n",
       "      <td>8.000000</td>\n",
       "    </tr>\n",
       "  </tbody>\n",
       "</table>\n",
       "</div>"
      ],
      "text/plain": [
       "       fixed.acidity  volatile.acidity  citric.acid  residual.sugar  \\\n",
       "count    1599.000000       1599.000000  1599.000000     1599.000000   \n",
       "mean        8.319637          0.527821     0.270976        2.538806   \n",
       "std         1.741096          0.179060     0.194801        1.409928   \n",
       "min         4.600000          0.120000     0.000000        0.900000   \n",
       "25%         7.100000          0.390000     0.090000        1.900000   \n",
       "50%         7.900000          0.520000     0.260000        2.200000   \n",
       "75%         9.200000          0.640000     0.420000        2.600000   \n",
       "max        15.900000          1.580000     1.000000       15.500000   \n",
       "\n",
       "         chlorides  free.sulfur.dioxide  total.sulfur.dioxide      density  \\\n",
       "count  1599.000000          1599.000000           1599.000000  1599.000000   \n",
       "mean      0.087467            15.874922             46.467792     0.996747   \n",
       "std       0.047065            10.460157             32.895324     0.001887   \n",
       "min       0.012000             1.000000              6.000000     0.990070   \n",
       "25%       0.070000             7.000000             22.000000     0.995600   \n",
       "50%       0.079000            14.000000             38.000000     0.996750   \n",
       "75%       0.090000            21.000000             62.000000     0.997835   \n",
       "max       0.611000            72.000000            289.000000     1.003690   \n",
       "\n",
       "                pH    sulphates      alcohol      quality  \n",
       "count  1599.000000  1599.000000  1599.000000  1599.000000  \n",
       "mean      3.311113     0.658149    10.422983     5.636023  \n",
       "std       0.154386     0.169507     1.065668     0.807569  \n",
       "min       2.740000     0.330000     8.400000     3.000000  \n",
       "25%       3.210000     0.550000     9.500000     5.000000  \n",
       "50%       3.310000     0.620000    10.200000     6.000000  \n",
       "75%       3.400000     0.730000    11.100000     6.000000  \n",
       "max       4.010000     2.000000    14.900000     8.000000  "
      ]
     },
     "execution_count": 4,
     "metadata": {},
     "output_type": "execute_result"
    }
   ],
   "source": [
    "df1.describe()"
   ]
  },
  {
   "cell_type": "code",
   "execution_count": 5,
   "metadata": {},
   "outputs": [
    {
     "name": "stderr",
     "output_type": "stream",
     "text": [
      "C:\\Users\\mahes\\AppData\\Local\\Packages\\PythonSoftwareFoundation.Python.3.11_qbz5n2kfra8p0\\LocalCache\\local-packages\\Python311\\site-packages\\seaborn\\axisgrid.py:118: UserWarning: The figure layout has changed to tight\n",
      "  self._figure.tight_layout(*args, **kwargs)\n"
     ]
    },
    {
     "data": {
      "text/plain": [
       "<seaborn.axisgrid.FacetGrid at 0x1cf6e2abb50>"
      ]
     },
     "execution_count": 5,
     "metadata": {},
     "output_type": "execute_result"
    },
    {
     "data": {
      "image/png": "[encoded data removed]",
      "text/plain": [
       "<Figure size 500x500 with 1 Axes>"
      ]
     },
     "metadata": {},
     "output_type": "display_data"
    }
   ],
   "source": [
    "# number of values for each quality\n",
    "sns.catplot(x='quality', data = df1, kind = 'count')"
   ]
  },
  {
   "cell_type": "code",
   "execution_count": 6,
   "metadata": {},
   "outputs": [
    {
     "data": {
      "text/plain": [
       "array([5, 6, 7, 4, 8, 3], dtype=int64)"
      ]
     },
     "execution_count": 6,
     "metadata": {},
     "output_type": "execute_result"
    }
   ],
   "source": [
    "# values taken by output\n",
    "df1['quality'].unique()"
   ]
  },
  {
   "cell_type": "code",
   "execution_count": 7,
   "metadata": {},
   "outputs": [
    {
     "data": {
      "text/plain": [
       "<Axes: xlabel='quality', ylabel='alcohol'>"
      ]
     },
     "execution_count": 7,
     "metadata": {},
     "output_type": "execute_result"
    },
    {
     "data": {
      "image/png": "[encoded data removed]",
      "text/plain": [
       "<Figure size 500x500 with 1 Axes>"
      ]
     },
     "metadata": {},
     "output_type": "display_data"
    }
   ],
   "source": [
    "# volatile acidity vs Quality\n",
    "plot = plt.figure(figsize=(5,5))\n",
    "sns.barplot(x='quality', y = 'alcohol', data = df1)"
   ]
  },
  {
   "cell_type": "code",
   "execution_count": 8,
   "metadata": {},
   "outputs": [
    {
     "data": {
      "text/plain": [
       "<Axes: xlabel='quality', ylabel='alcohol'>"
      ]
     },
     "execution_count": 8,
     "metadata": {},
     "output_type": "execute_result"
    },
    {
     "data": {
      "image/png": "[encoded data removed]",
      "text/plain": [
       "<Figure size 500x500 with 1 Axes>"
      ]
     },
     "metadata": {},
     "output_type": "display_data"
    }
   ],
   "source": [
    "# volatile acidity vs Quality\n",
    "plot = plt.figure(figsize=(5,5))\n",
    "sns.barplot(x='quality', y = 'alcohol', data = df1)"
   ]
  },
  {
   "cell_type": "code",
   "execution_count": 9,
   "metadata": {},
   "outputs": [],
   "source": [
    "X = df1.drop('quality',axis=1)\n",
    "Y = df1['quality']\n",
    "# spliting into train and test set\n",
    "X_train, X_test, Y_train, Y_test = train_test_split(X, Y, test_size=0.2)"
   ]
  },
  {
   "cell_type": "code",
   "execution_count": 10,
   "metadata": {},
   "outputs": [
    {
     "name": "stdout",
     "output_type": "stream",
     "text": [
      "         cofffecients\n",
      "0                    \n",
      "7.4000       0.044872\n",
      "0.7000      -1.078805\n",
      "0.0000      -0.236796\n",
      "1.9000       0.017702\n",
      "0.0760      -1.343643\n",
      "11.0000      0.004362\n",
      "34.0000     -0.003010\n",
      "0.9978     -25.615441\n",
      "3.5100      -0.332738\n",
      "0.5600       0.790893\n",
      "9.4000       0.275023\n",
      "\n",
      "intercept : 29.27954306250125\n"
     ]
    }
   ],
   "source": [
    "# Build the linear regression model using LinearRegression()\n",
    "linear_regressor = LinearRegression()\n",
    "# Fit the model to our training data\n",
    "linear_regressor.fit(X_train, Y_train)\n",
    "# Print the values of coefficients of each feature\n",
    "features=df1.loc[0].drop(['quality'])\n",
    "coeffecients = pd.DataFrame(linear_regressor.coef_,features)\n",
    "coeffecients.columns=['cofffecients']\n",
    "print(coeffecients)\n",
    "print(\"\\nintercept :\",linear_regressor.intercept_)"
   ]
  },
  {
   "cell_type": "code",
   "execution_count": 11,
   "metadata": {},
   "outputs": [],
   "source": [
    "# predicting output for train and test samples\n",
    "linear_train_pred = linear_regressor.predict(X_train)\n",
    "linear_test_pred = linear_regressor.predict(X_test)     "
   ]
  },
  {
   "cell_type": "code",
   "execution_count": 12,
   "metadata": {},
   "outputs": [
    {
     "name": "stdout",
     "output_type": "stream",
     "text": [
      "tain_mse:  0.42034431070015993\n",
      "test_mse:  0.4066279806267021\n"
     ]
    }
   ],
   "source": [
    "# The MSE for training and testing sets need to be similar for good model\n",
    "linear_mse_train = metrics.mean_squared_error(linear_train_pred,Y_train)\n",
    "linear_mse_test = metrics.mean_squared_error(linear_test_pred, Y_test)\n",
    "print(\"tain_mse: \",linear_mse_train)\n",
    "print(\"test_mse: \",linear_mse_test)"
   ]
  },
  {
   "cell_type": "code",
   "execution_count": 13,
   "metadata": {},
   "outputs": [
    {
     "name": "stdout",
     "output_type": "stream",
     "text": [
      "accuracy of testing set : 0.603125\n",
      "accuracy of training set : 0.5863956215793589\n"
     ]
    }
   ],
   "source": [
    "linear_test_predicted_data = np.round_(linear_test_pred)\n",
    "test_data_accuracy = accuracy_score(linear_test_predicted_data, Y_test)\n",
    "print(\"accuracy of testing set :\",test_data_accuracy)\n",
    "linear_train_predicted_data = np.round_(linear_train_pred)\n",
    "train_data_accuracy = accuracy_score(linear_train_predicted_data,Y_train)\n",
    "print(\"accuracy of training set :\",train_data_accuracy)"
   ]
  },
  {
   "cell_type": "code",
   "execution_count": 14,
   "metadata": {},
   "outputs": [
    {
     "name": "stdout",
     "output_type": "stream",
     "text": [
      "Mean Absolute Error: 0.49006496072341915\n",
      "Mean Squared Error: 0.4066279806267021\n",
      "Root Mean Squared Error: 0.6376738826600178\n"
     ]
    }
   ],
   "source": [
    "# Calculating other error functions\n",
    "print('Mean Absolute Error:', metrics.mean_absolute_error(linear_test_pred, Y_test))\n",
    "print('Mean Squared Error:', metrics.mean_squared_error(linear_test_pred, Y_test))\n",
    "print('Root Mean Squared Error:', np.sqrt(metrics.mean_squared_error(linear_test_pred, Y_test)))"
   ]
  },
  {
   "cell_type": "markdown",
   "metadata": {},
   "source": [
    "Using implemented Linear Regression model"
   ]
  },
  {
   "cell_type": "code",
   "execution_count": 15,
   "metadata": {},
   "outputs": [
    {
     "name": "stdout",
     "output_type": "stream",
     "text": [
      "   0         1         2         3         4         5         6         7   \\\n",
      "0   1  0.025606  0.002422  0.000000  0.006574  0.000263  0.038062  0.117647   \n",
      "1   1  0.026990  0.003045  0.000000  0.008997  0.000339  0.086505  0.231834   \n",
      "2   1  0.026990  0.002630  0.000138  0.007958  0.000318  0.051903  0.186851   \n",
      "3   1  0.038754  0.000969  0.001938  0.006574  0.000260  0.058824  0.207612   \n",
      "4   1  0.025606  0.002422  0.000000  0.006574  0.000263  0.038062  0.117647   \n",
      "\n",
      "         8         9         10        11  12  \n",
      "0  0.003453  0.012145  0.001938  0.032526   5  \n",
      "1  0.003449  0.011073  0.002353  0.033910   5  \n",
      "2  0.003450  0.011280  0.002249  0.033910   5  \n",
      "3  0.003453  0.010934  0.002007  0.033910   6  \n",
      "4  0.003453  0.012145  0.001938  0.032526   5  \n"
     ]
    }
   ],
   "source": [
    "import numpy as np\n",
    "import pandas as pd\n",
    "import matplotlib.pyplot as plt\n",
    "import seaborn as sns\n",
    "\n",
    "\n",
    "df1 = pd.read_csv('C:\\\\Users\\\\mahes\\\\OneDrive\\\\Desktop\\\\Mahesh_Works\\\\Wine-Quality-Prediction\\\\wineQualityReds.csv',encoding = 'utf-8')\n",
    "df = pd.DataFrame()\n",
    "df[0] = [1 for i in range(len(df1))]\n",
    "for i in range(df1.columns.size):\n",
    "  df[i+1] = df1.iloc[:,i]\n",
    "\n",
    "# before normalization\n",
    "# print(df.head())\n",
    "\n",
    "# Normalising data\n",
    "list1 = []\n",
    "maxval = -1\n",
    "for i in range(df.columns.size-1):\n",
    "  maxval = max(maxval,df[i].max())\n",
    "for i in range(1,df.columns.size-1):\n",
    "  df[i] = df[i]/maxval\n",
    "\n",
    "# spliting into train,validation,test set\n",
    "train_set = df.sample(frac=0.6)\n",
    "remaining = df.drop(train_set.index)\n",
    "validation_set = remaining.sample(frac=0.4)\n",
    "test_set = remaining.drop(validation_set.index)\n",
    "\n",
    "# after normalization\n",
    "print(df.head())\n",
    "     "
   ]
  },
  {
   "cell_type": "code",
   "execution_count": 16,
   "metadata": {},
   "outputs": [
    {
     "data": {
      "text/html": [
       "<div>\n",
       "<style scoped>\n",
       "    .dataframe tbody tr th:only-of-type {\n",
       "        vertical-align: middle;\n",
       "    }\n",
       "\n",
       "    .dataframe tbody tr th {\n",
       "        vertical-align: top;\n",
       "    }\n",
       "\n",
       "    .dataframe thead th {\n",
       "        text-align: right;\n",
       "    }\n",
       "</style>\n",
       "<table border=\"1\" class=\"dataframe\">\n",
       "  <thead>\n",
       "    <tr style=\"text-align: right;\">\n",
       "      <th></th>\n",
       "      <th>0</th>\n",
       "      <th>1</th>\n",
       "      <th>2</th>\n",
       "      <th>3</th>\n",
       "      <th>4</th>\n",
       "      <th>5</th>\n",
       "      <th>6</th>\n",
       "      <th>7</th>\n",
       "      <th>8</th>\n",
       "      <th>9</th>\n",
       "      <th>10</th>\n",
       "      <th>11</th>\n",
       "      <th>12</th>\n",
       "    </tr>\n",
       "  </thead>\n",
       "  <tbody>\n",
       "    <tr>\n",
       "      <th>count</th>\n",
       "      <td>1599.0</td>\n",
       "      <td>1599.000000</td>\n",
       "      <td>1599.000000</td>\n",
       "      <td>1599.000000</td>\n",
       "      <td>1599.000000</td>\n",
       "      <td>1599.000000</td>\n",
       "      <td>1599.000000</td>\n",
       "      <td>1599.000000</td>\n",
       "      <td>1599.000000</td>\n",
       "      <td>1599.000000</td>\n",
       "      <td>1599.000000</td>\n",
       "      <td>1599.000000</td>\n",
       "      <td>1599.000000</td>\n",
       "    </tr>\n",
       "    <tr>\n",
       "      <th>mean</th>\n",
       "      <td>1.0</td>\n",
       "      <td>0.028788</td>\n",
       "      <td>0.001826</td>\n",
       "      <td>0.000938</td>\n",
       "      <td>0.008785</td>\n",
       "      <td>0.000303</td>\n",
       "      <td>0.054931</td>\n",
       "      <td>0.160788</td>\n",
       "      <td>0.003449</td>\n",
       "      <td>0.011457</td>\n",
       "      <td>0.002277</td>\n",
       "      <td>0.036066</td>\n",
       "      <td>5.636023</td>\n",
       "    </tr>\n",
       "    <tr>\n",
       "      <th>std</th>\n",
       "      <td>0.0</td>\n",
       "      <td>0.006025</td>\n",
       "      <td>0.000620</td>\n",
       "      <td>0.000674</td>\n",
       "      <td>0.004879</td>\n",
       "      <td>0.000163</td>\n",
       "      <td>0.036194</td>\n",
       "      <td>0.113825</td>\n",
       "      <td>0.000007</td>\n",
       "      <td>0.000534</td>\n",
       "      <td>0.000587</td>\n",
       "      <td>0.003687</td>\n",
       "      <td>0.807569</td>\n",
       "    </tr>\n",
       "    <tr>\n",
       "      <th>min</th>\n",
       "      <td>1.0</td>\n",
       "      <td>0.015917</td>\n",
       "      <td>0.000415</td>\n",
       "      <td>0.000000</td>\n",
       "      <td>0.003114</td>\n",
       "      <td>0.000042</td>\n",
       "      <td>0.003460</td>\n",
       "      <td>0.020761</td>\n",
       "      <td>0.003426</td>\n",
       "      <td>0.009481</td>\n",
       "      <td>0.001142</td>\n",
       "      <td>0.029066</td>\n",
       "      <td>3.000000</td>\n",
       "    </tr>\n",
       "    <tr>\n",
       "      <th>25%</th>\n",
       "      <td>1.0</td>\n",
       "      <td>0.024567</td>\n",
       "      <td>0.001349</td>\n",
       "      <td>0.000311</td>\n",
       "      <td>0.006574</td>\n",
       "      <td>0.000242</td>\n",
       "      <td>0.024221</td>\n",
       "      <td>0.076125</td>\n",
       "      <td>0.003445</td>\n",
       "      <td>0.011107</td>\n",
       "      <td>0.001903</td>\n",
       "      <td>0.032872</td>\n",
       "      <td>5.000000</td>\n",
       "    </tr>\n",
       "    <tr>\n",
       "      <th>50%</th>\n",
       "      <td>1.0</td>\n",
       "      <td>0.027336</td>\n",
       "      <td>0.001799</td>\n",
       "      <td>0.000900</td>\n",
       "      <td>0.007612</td>\n",
       "      <td>0.000273</td>\n",
       "      <td>0.048443</td>\n",
       "      <td>0.131488</td>\n",
       "      <td>0.003449</td>\n",
       "      <td>0.011453</td>\n",
       "      <td>0.002145</td>\n",
       "      <td>0.035294</td>\n",
       "      <td>6.000000</td>\n",
       "    </tr>\n",
       "    <tr>\n",
       "      <th>75%</th>\n",
       "      <td>1.0</td>\n",
       "      <td>0.031834</td>\n",
       "      <td>0.002215</td>\n",
       "      <td>0.001453</td>\n",
       "      <td>0.008997</td>\n",
       "      <td>0.000311</td>\n",
       "      <td>0.072664</td>\n",
       "      <td>0.214533</td>\n",
       "      <td>0.003453</td>\n",
       "      <td>0.011765</td>\n",
       "      <td>0.002526</td>\n",
       "      <td>0.038408</td>\n",
       "      <td>6.000000</td>\n",
       "    </tr>\n",
       "    <tr>\n",
       "      <th>max</th>\n",
       "      <td>1.0</td>\n",
       "      <td>0.055017</td>\n",
       "      <td>0.005467</td>\n",
       "      <td>0.003460</td>\n",
       "      <td>0.053633</td>\n",
       "      <td>0.002114</td>\n",
       "      <td>0.249135</td>\n",
       "      <td>1.000000</td>\n",
       "      <td>0.003473</td>\n",
       "      <td>0.013875</td>\n",
       "      <td>0.006920</td>\n",
       "      <td>0.051557</td>\n",
       "      <td>8.000000</td>\n",
       "    </tr>\n",
       "  </tbody>\n",
       "</table>\n",
       "</div>"
      ],
      "text/plain": [
       "           0            1            2            3            4   \\\n",
       "count  1599.0  1599.000000  1599.000000  1599.000000  1599.000000   \n",
       "mean      1.0     0.028788     0.001826     0.000938     0.008785   \n",
       "std       0.0     0.006025     0.000620     0.000674     0.004879   \n",
       "min       1.0     0.015917     0.000415     0.000000     0.003114   \n",
       "25%       1.0     0.024567     0.001349     0.000311     0.006574   \n",
       "50%       1.0     0.027336     0.001799     0.000900     0.007612   \n",
       "75%       1.0     0.031834     0.002215     0.001453     0.008997   \n",
       "max       1.0     0.055017     0.005467     0.003460     0.053633   \n",
       "\n",
       "                5            6            7            8            9   \\\n",
       "count  1599.000000  1599.000000  1599.000000  1599.000000  1599.000000   \n",
       "mean      0.000303     0.054931     0.160788     0.003449     0.011457   \n",
       "std       0.000163     0.036194     0.113825     0.000007     0.000534   \n",
       "min       0.000042     0.003460     0.020761     0.003426     0.009481   \n",
       "25%       0.000242     0.024221     0.076125     0.003445     0.011107   \n",
       "50%       0.000273     0.048443     0.131488     0.003449     0.011453   \n",
       "75%       0.000311     0.072664     0.214533     0.003453     0.011765   \n",
       "max       0.002114     0.249135     1.000000     0.003473     0.013875   \n",
       "\n",
       "                10           11           12  \n",
       "count  1599.000000  1599.000000  1599.000000  \n",
       "mean      0.002277     0.036066     5.636023  \n",
       "std       0.000587     0.003687     0.807569  \n",
       "min       0.001142     0.029066     3.000000  \n",
       "25%       0.001903     0.032872     5.000000  \n",
       "50%       0.002145     0.035294     6.000000  \n",
       "75%       0.002526     0.038408     6.000000  \n",
       "max       0.006920     0.051557     8.000000  "
      ]
     },
     "execution_count": 16,
     "metadata": {},
     "output_type": "execute_result"
    }
   ],
   "source": [
    "df.describe()"
   ]
  },
  {
   "cell_type": "code",
   "execution_count": 17,
   "metadata": {},
   "outputs": [],
   "source": [
    "class Linear_regression2 : \n",
    "  def __init__(self,alpha,rho,epoch,data):\n",
    "    self.alpha,self.rho,self.epoch=alpha,rho,epoch\n",
    "    self.data = data\n",
    "    self.m = len(self.data)\n",
    "    self.n = data.columns.size\n",
    "    arr = np.random.uniform(-0.3,0.3,self.n-1)\n",
    "    self.w = pd.Series(arr)\n",
    "    self.error = [0.0]\n",
    "    self.Y_Predict = self.predict()\n",
    "\n",
    "  def iterate(self):\n",
    "    i=0\n",
    "    error_dif = self.cur_error() - self.error[len(self.error)-1]\n",
    "    while((self.rho) or i==0):\n",
    "      self.update()\n",
    "      i+=1\n",
    "      self.error.append(self.cur_error())\n",
    "  \n",
    "  def update(self):\n",
    "    self.Y_Predict = self.predict()\n",
    "    for i in range(len(self.w)):\n",
    "      self.w[i]=self.w[i]-(self.alpha/self.m)*((self.Y_Predict-self.data[self.n-1]).dot(self.data[i]))\n",
    "    # for i in range (self.m):\n",
    "    #   for j in range (len(self.w)):\n",
    "    #      self.w[j]=self.w[j]-(self.alpha)*((self.Y_Predict[i]-self.data.iloc[i,self.n-1]))*self.data.iloc[i,j]\n",
    "      \n",
    "     \n",
    "  def predict(self):\n",
    "    arr =[]\n",
    "    for i in range (self.m):\n",
    "      temp=pd.Series(self.data.iloc[i])\n",
    "      temp.pop(self.n-1)\n",
    "      arr.append(temp.dot(self.w))\n",
    "    return arr\n",
    "\n",
    "  def cur_error(self):\n",
    "    psum=0\n",
    "    for i in range(self.m):\n",
    "      psum = psum  + (self.Y_Predict[i]-self.data.iloc[i,self.n-1])**2\n",
    "    psum = psum/(2*self.m)\n",
    "    return psum"
   ]
  },
  {
   "cell_type": "code",
   "execution_count": 18,
   "metadata": {},
   "outputs": [],
   "source": [
    "rho_arr = [0.8,0.5,0.9,0.6,0.7]\n",
    "alpha_arr = [0.015,0.005,0.03,0.02,0.01]\n",
    "epoch_arr = [160,155,130,150,140]\n",
    "\n",
    "w_arr = []\n",
    "error_arr = []\n",
    "\n",
    "for i in range(5):\n",
    "  model = Linear_regression2(alpha_arr[i],rho_arr[i],epoch_arr[i],train_set)\n",
    "  model.iterate()\n",
    "  w_arr.append(model.w)\n",
    "  error_arr.append(model.cur_error())"
   ]
  },
  {
   "cell_type": "code",
   "execution_count": null,
   "metadata": {},
   "outputs": [],
   "source": [
    "print(w_arr)\n",
    "print(error_arr)"
   ]
  },
  {
   "cell_type": "code",
   "execution_count": null,
   "metadata": {},
   "outputs": [],
   "source": [
    "def find_error(w,dataframe):\n",
    "  tarr = w.values\n",
    "  w = pd.DataFrame(tarr.reshape(w.size,1))\n",
    "  tempdf = dataframe.drop(columns=[dataframe.columns.size-1])\n",
    "  predict =  tempdf.dot(w)\n",
    "  psum=0\n",
    "  for i in range(len(dataframe)):\n",
    "    psum=psum + (predict.iloc[i,0]-dataframe.iloc[i,dataframe.columns.size-1])**2\n",
    "  \n",
    "  psum = 1/(2*(len(dataframe)))*psum\n",
    "  return psum"
   ]
  },
  {
   "cell_type": "code",
   "execution_count": null,
   "metadata": {},
   "outputs": [],
   "source": [
    "# initialising 0th index as best then iterating to find best one (best w => best alpha)\n",
    "best = 0\n",
    "min_error = find_error(w_arr[0],validation_set)\n",
    "for i in range(1,5):\n",
    "  e=find_error(w_arr[i],validation_set)\n",
    "  if min_error-e>0:\n",
    "    min_error=e\n",
    "    best=i"
   ]
  },
  {
   "cell_type": "markdown",
   "metadata": {},
   "source": [
    "Results"
   ]
  },
  {
   "cell_type": "code",
   "execution_count": null,
   "metadata": {},
   "outputs": [],
   "source": [
    "# prints the best index\n",
    "print(best)"
   ]
  },
  {
   "cell_type": "markdown",
   "metadata": {},
   "source": [
    "Finding MSE for different hyperparameters."
   ]
  },
  {
   "cell_type": "code",
   "execution_count": null,
   "metadata": {},
   "outputs": [],
   "source": [
    "print(\"MSE for train,validation,test set with different set of hyper parameters\\n\")\n",
    "print(\"     Train set             Validation set               Test set\")\n",
    "for i in range(0,5):\n",
    "  e1=find_error(w_arr[i],train_set)\n",
    "  e2=find_error(w_arr[i],validation_set)\n",
    "  e3=find_error(w_arr[i],test_set)\n",
    "  print(e1,\"     \",e2,\"       \",e3)"
   ]
  },
  {
   "cell_type": "markdown",
   "metadata": {},
   "source": [
    "Finding Accuracy with different combination of rho,alpha and epoch"
   ]
  },
  {
   "cell_type": "code",
   "execution_count": null,
   "metadata": {},
   "outputs": [],
   "source": [
    "def prediction(w,data):\n",
    "  arr=[]\n",
    "  for i in range(len(data)):\n",
    "    temp1=pd.Series(w)\n",
    "    temp2=data.iloc[i,:].drop([12])\n",
    "    arr.append(temp2.dot(temp1))\n",
    "  return arr  "
   ]
  },
  {
   "cell_type": "code",
   "execution_count": null,
   "metadata": {},
   "outputs": [],
   "source": [
    "for i in range(0,5):\n",
    "  predicted_values1=np.round_(prediction(w_arr[i],train_set))\n",
    "  predicted_values2=np.round_(prediction(w_arr[i],validation_set))\n",
    "  predicted_values3=np.round_(prediction(w_arr[i],test_set))\n",
    "\n",
    "  total_ct1 = len(train_set)\n",
    "  correct_ct1 = 0\n",
    "  total_ct2 = len(validation_set)\n",
    "  correct_ct2 = 0\n",
    "  total_ct3 = len(test_set)\n",
    "  correct_ct3 = 0\n",
    "  for i in range(len(train_set)):\n",
    "    if(train_set.iloc[i][len(df.columns)-1]==predicted_values1[i]):\n",
    "      correct_ct1+=1\n",
    "  for i in range(len(validation_set)):\n",
    "    if(validation_set.iloc[i][len(df.columns)-1]==predicted_values2[i]):\n",
    "      correct_ct2+=1\n",
    "  for i in range(len(test_set)):\n",
    "    if(test_set.iloc[i][len(df.columns)-1]==predicted_values3[i]):\n",
    "      correct_ct3+=1\n",
    "  \n",
    "  print(\"Accuracy1 : \",(correct_ct1/total_ct1)*100)\n",
    "  print(\"Accuracy2 : \",(correct_ct2/total_ct2)*100)\n",
    "  print(\"Accuracy3 : \",(correct_ct3/total_ct3)*100)\n",
    "  print(\"------------------------------------------\")\n",
    "     "
   ]
  }
 ],
 "metadata": {
  "kernelspec": {
   "display_name": "Python 3",
   "language": "python",
   "name": "python3"
  },
  "language_info": {
   "codemirror_mode": {
    "name": "ipython",
    "version": 3
   },
   "file_extension": ".py",
   "mimetype": "text/x-python",
   "name": "python",
   "nbconvert_exporter": "python",
   "pygments_lexer": "ipython3",
   "version": "3.11.4"
  },
  "orig_nbformat": 4
 },
 "nbformat": 4,
 "nbformat_minor": 2
}
